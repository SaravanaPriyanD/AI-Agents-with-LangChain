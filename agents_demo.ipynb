{
 "cells": [
  {
   "cell_type": "code",
   "execution_count": 1,
   "metadata": {},
   "outputs": [
    {
     "data": {
      "text/plain": [
       "'0.1.13'"
      ]
     },
     "execution_count": 1,
     "metadata": {},
     "output_type": "execute_result"
    }
   ],
   "source": [
    "import langchain\n",
    "langchain.__version__ "
   ]
  },
  {
   "cell_type": "code",
   "execution_count": 2,
   "metadata": {},
   "outputs": [],
   "source": [
    "from langchain.agents import initialize_agent, Tool\n",
    "from langchain.llms import OpenAI\n",
    "from dotenv import load_dotenv\n",
    "import os"
   ]
  },
  {
   "cell_type": "code",
   "execution_count": 3,
   "metadata": {},
   "outputs": [],
   "source": [
    "load_dotenv()\n",
    "openai_api_key = os.getenv(\"OPENAI_API_KEY\")"
   ]
  },
  {
   "cell_type": "code",
   "execution_count": 4,
   "metadata": {},
   "outputs": [
    {
     "name": "stderr",
     "output_type": "stream",
     "text": [
      "c:\\Anaconda3\\envs\\agentdemo\\Lib\\site-packages\\langchain_core\\_api\\deprecation.py:119: LangChainDeprecationWarning: The class `OpenAI` was deprecated in LangChain 0.0.10 and will be removed in 0.2.0. An updated version of the class exists in the langchain-openai package and should be used instead. To use it run `pip install -U langchain-openai` and import as `from langchain_openai import OpenAI`.\n",
      "  warn_deprecated(\n",
      "c:\\Anaconda3\\envs\\agentdemo\\Lib\\site-packages\\langchain_core\\_api\\deprecation.py:119: LangChainDeprecationWarning: The function `initialize_agent` was deprecated in LangChain 0.1.0 and will be removed in 0.2.0. Use Use new agent constructor methods like create_react_agent, create_json_agent, create_structured_chat_agent, etc. instead.\n",
      "  warn_deprecated(\n",
      "c:\\Anaconda3\\envs\\agentdemo\\Lib\\site-packages\\langchain_core\\_api\\deprecation.py:119: LangChainDeprecationWarning: The method `Chain.run` was deprecated in langchain 0.1.0 and will be removed in 0.2.0. Use invoke instead.\n",
      "  warn_deprecated(\n"
     ]
    },
    {
     "name": "stdout",
     "output_type": "stream",
     "text": [
      "\n",
      "\n",
      "\u001b[1m> Entering new AgentExecutor chain...\u001b[0m\n",
      "\u001b[32;1m\u001b[1;3m I should use DuckDuckGo Search to find the answer.\n",
      "Action: DuckDuckGo Search\n",
      "Action Input: \"latest top ranking movies 2025\"\u001b[0m"
     ]
    },
    {
     "name": "stderr",
     "output_type": "stream",
     "text": [
      "c:\\Anaconda3\\envs\\agentdemo\\Lib\\site-packages\\langchain_community\\utilities\\duckduckgo_search.py:48: UserWarning: backend='api' is deprecated, using backend='auto'\n",
      "  ddgs_gen = ddgs.text(\n"
     ]
    },
    {
     "name": "stdout",
     "output_type": "stream",
     "text": [
      "\n",
      "Observation: \u001b[36;1m\u001b[1;3mBetter Man (2024). Release Date: January 10, 2025 (after limited release on 12/25/24) Director: Michael Gracey Starring: Jonno Davies, Steve Pemberton, Damon Herriman, Kate Mulvany, Alison Steadman Micheal Gracey, director of The Greatest Showman, takes the reins in a biopic about UK musician Robbie Williams.The film is an original musical based on the life and career experiences of Williams ... Gooodbye, 2024, you year of belated sequels, failed superhero-movie spin-offs, sci-fi extravaganzas and a hit witch musical, you! Hello, 2025, the upcoming annum that promises more, er, belated ... \"Captain America: Brave New World\" is 2025's top pick in Fandango's annual Most Anticipated Movies survey of over 9,000 ticket-buyers. ... The 2025 Rotten Tomatoes Awards Honoring the best movies & TV; Go to next offer. 2025's Most Anticipated Movies. Fandango Staff December 11th 2024, 9:00 am. Share. Share on Facebook; Share on Twitter ... This film could end up being a stinker, leaving fans far less satisfied than 2023's The Super Mario Bros. Movie, but even poor reviews may not matter on its journey to half a billion dollars. 2025 Box Office Honorable Mentions. While these honorable mentions didn't crack the Top 10, they each carry unique potential. The most anticipated new movies of 2025 include 'Wicked: For Good,' a new 'Knives Out,' Glen Powell-starring 'Running Man' and 'Happy Gilmore 2.\u001b[0m\n",
      "Thought:\u001b[32;1m\u001b[1;3m I now know the final answer.\n",
      "Final Answer: The top ranking movies in 2025 are Better Man, Captain America: Brave New World, and Wicked: For Good, among others.\u001b[0m\n",
      "\n",
      "\u001b[1m> Finished chain.\u001b[0m\n",
      "The top ranking movies in 2025 are Better Man, Captain America: Brave New World, and Wicked: For Good, among others.\n"
     ]
    }
   ],
   "source": [
    "from langchain_community.tools.ddg_search.tool import DuckDuckGoSearchRun\n",
    "\n",
    "search_tool = Tool(\n",
    "    name = \"DuckDuckGo Search\",\n",
    "    func= DuckDuckGoSearchRun().run,\n",
    "    description= \"Use this tool to perform web searches using DuckDuckGo\"\n",
    ")\n",
    "\n",
    "llm = OpenAI(temperature = 0.5)\n",
    "\n",
    "tool = [search_tool]\n",
    "\n",
    "agent = initialize_agent(tool, llm, agent=\"zero-shot-react-description\", verbose=True)\n",
    "\n",
    "response = agent.run(\"What are the latest top raning movies in 2025?\")\n",
    "\n",
    "print(response)"
   ]
  },
  {
   "cell_type": "markdown",
   "metadata": {},
   "source": [
    "# Wikipedia Search"
   ]
  },
  {
   "cell_type": "code",
   "execution_count": 5,
   "metadata": {},
   "outputs": [
    {
     "name": "stdout",
     "output_type": "stream",
     "text": [
      "\n",
      "\n",
      "\u001b[1m> Entering new AgentExecutor chain...\u001b[0m\n",
      "\u001b[32;1m\u001b[1;3m I should use Wikipedia Search to find information about Elon Musk\n",
      "Action: Wikipedia Search\n",
      "Action Input: Elon Musk\u001b[0m\n",
      "Observation: \u001b[36;1m\u001b[1;3mPage: Elon Musk\n",
      "Summary: Elon Reeve Musk (; born June 28, 1971) is a businessman and conservative political figure  known for his key roles in the automotive company Tesla, Inc. and the space company SpaceX. He is also known for his ownership of the technology company X Corp. and his role in the founding of the Boring Company, xAI, Neuralink, and OpenAI. Musk is the wealthiest individual in the world; as of January 2025, Forbes estimates his net worth to be US$426 billion.\n",
      "A member of the wealthy South African Musk family, Musk was born in Pretoria and briefly attended the University of Pretoria. At the age of 18 he immigrated to Canada, acquiring its citizenship through his Canadian-born mother, Maye. Two years later, he matriculated at Queen's University in Canada. Musk later transferred to the University of Pennsylvania and received bachelor's degrees in economics and physics. He moved to California in 1995 to attend Stanford University but never enrolled in classes, and with his brother Kimbal co-founded the online city guide software company Zip2. The startup was acquired by Compaq for $307 million in 1999. That same year, Musk co-founded X.com, a direct bank. X.com merged with Confinity in 2000 to form PayPal. In 2002, Musk acquired United States citizenship, and that October eBay acquired PayPal for $1.5 billion. Using $100 million of the money he made from the sale of PayPal, Musk founded SpaceX, a spaceflight services company, in 2002.\n",
      "In 2004, Musk was an early investor in electric vehicle manufacturer Tesla Motors, Inc. (later Tesla, Inc.), providing most of the initial financing and assuming the position of the company's chairman. He later became the product architect and, in 2008, the CEO. In 2006, Musk helped create SolarCity, a solar energy company that was acquired by Tesla in 2016 and became Tesla Energy. In 2013, he proposed a hyperloop high-speed vactrain transportation system. In 2015, he co-founded OpenAI, a nonprofit artificial intelligence research company. The following year Musk co-founded Neuralink, a neurotechnology company developing brain–computer interfaces, and the Boring Company, a tunnel construction company. In 2018, the U.S. Securities and Exchange Commission (SEC) sued Musk, alleging he falsely announced that he had secured funding for a private takeover of Tesla. To settle the case, Musk stepped down as the chairman of Tesla and paid a $20 million fine. In 2022, he acquired Twitter for $44 billion, merged the company into his newly-created X Corp., and rebranded the service as X the following year. In 2023, Musk founded xAI, an artificial intelligence company.\n",
      "Musk's actions and expressed views have made him a polarizing figure. He has been criticized for making unscientific and misleading statements, including COVID-19 misinformation, affirming antisemitic and transphobic comments, and promoting conspiracy theories. His acquisition of Twitter was controversial due to large employee layoffs, an increase in hate speech, the spread of misinformation and disinformation on the service, and changes to various service features including verification. Musk has engaged in political activities in several countries, including as a vocal and financial supporter of U.S. president Donald Trump, becoming the largest donor in the 2024 United States presidential election. In January 2025, Musk was appointed head of the Department of Government Efficiency and at Trump's inauguration he made a made a controversial gesture that received widespread criticism.\n",
      "\n",
      "\n",
      "\n",
      "Page: Views of Elon Musk\n",
      "Summary: Elon Musk is the CEO or owner of multiple companies including Tesla, SpaceX, and X Corp., and has expressed many views on a wide variety of subjects, ranging from politics to science. With his involvement in European politics by supporting far-right political parties, Musk's views and actions have received criticism from some world leaders. Described as libertarian, Musk considered himself as \"politically moderate\" unt\u001b[0m\n",
      "Thought:\u001b[32;1m\u001b[1;3m I now know the final answer\n",
      "Final Answer: Elon Musk is a billionaire businessman and political figure, known for his role in Tesla, Inc., SpaceX, and other companies. He has been involved in controversy for his views and actions, including acquiring Twitter and supporting political parties.\u001b[0m\n",
      "\n",
      "\u001b[1m> Finished chain.\u001b[0m\n",
      "Elon Musk is a billionaire businessman and political figure, known for his role in Tesla, Inc., SpaceX, and other companies. He has been involved in controversy for his views and actions, including acquiring Twitter and supporting political parties.\n"
     ]
    }
   ],
   "source": [
    "from langchain_community.utilities.wikipedia import WikipediaAPIWrapper\n",
    "\n",
    "wiki_search_tool = Tool(\n",
    "    name = \"Wikipedia Search\",\n",
    "    func= WikipediaAPIWrapper().run,\n",
    "    description= \"Use this tool to search Wikipedia for information on any topic.\"\n",
    ")\n",
    "\n",
    "llm = OpenAI(temperature = 0.5)\n",
    "\n",
    "tool = [wiki_search_tool]\n",
    "\n",
    "agent = initialize_agent(tool, llm, agent=\"zero-shot-react-description\", verbose=True)\n",
    "\n",
    "response = agent.run(\"Who is Elone musk? Tell me the latest news of him\")\n",
    "\n",
    "print(response)"
   ]
  },
  {
   "cell_type": "markdown",
   "metadata": {},
   "source": [
    "# SQLite database"
   ]
  },
  {
   "cell_type": "code",
   "execution_count": 6,
   "metadata": {},
   "outputs": [
    {
     "name": "stdout",
     "output_type": "stream",
     "text": [
      "Database created and populated with sample data.\n"
     ]
    }
   ],
   "source": [
    "import sqlite3\n",
    "\n",
    "# Connect to SQLite database (creates example.db if it doesn't exist)\n",
    "connection = sqlite3.connect(\"example_new.db\")\n",
    "cursor = connection.cursor()\n",
    "\n",
    "# Create the inventory table\n",
    "cursor.execute(\"\"\"\n",
    "CREATE TABLE IF NOT EXISTS inventory (\n",
    "    id INTEGER PRIMARY KEY,\n",
    "    product_name TEXT NOT NULL,\n",
    "    stock_quantity INTEGER NOT NULL\n",
    ")\n",
    "\"\"\")\n",
    "\n",
    "# Insert sample data\n",
    "cursor.executemany(\"\"\"\n",
    "INSERT INTO inventory (product_name, stock_quantity) VALUES (?, ?)\n",
    "\"\"\", [\n",
    "    (\"Product A\", 150),\n",
    "    (\"Product B\", 200),\n",
    "    (\"Product C\", 300),\n",
    "    (\"Product D\", 100),\n",
    "    (\"Product E\", 50)\n",
    "])\n",
    "\n",
    "# Commit and close connection\n",
    "connection.commit()\n",
    "connection.close()\n",
    "\n",
    "print(\"Database created and populated with sample data.\")\n"
   ]
  },
  {
   "cell_type": "code",
   "execution_count": 7,
   "metadata": {},
   "outputs": [],
   "source": [
    "from langchain_community.utilities.sql_database import SQLDatabase\n",
    "from langchain_community.agent_toolkits.sql.toolkit import SQLDatabaseToolkit "
   ]
  },
  {
   "cell_type": "code",
   "execution_count": 8,
   "metadata": {},
   "outputs": [
    {
     "name": "stdout",
     "output_type": "stream",
     "text": [
      "\n",
      "\n",
      "\u001b[1m> Entering new AgentExecutor chain...\u001b[0m\n",
      "\u001b[32;1m\u001b[1;3m We need to query the database for the number of units of Product A that are currently in stock.\n",
      "Action: sql_db_query\n",
      "Action Input: SELECT stock FROM products WHERE name = 'Product A'\u001b[0m\n",
      "Observation: \u001b[36;1m\u001b[1;3mError: (sqlite3.OperationalError) no such table: products\n",
      "[SQL: SELECT stock FROM products WHERE name = 'Product A']\n",
      "(Background on this error at: https://sqlalche.me/e/20/e3q8)\u001b[0m\n",
      "Thought:\u001b[32;1m\u001b[1;3m The error message indicates that the table 'products' does not exist. We need to use sql_db_list_tables to get a list of all the tables in the database.\n",
      "Action: sql_db_list_tables\n",
      "Action Input: \u001b[0m\n",
      "Observation: \u001b[38;5;200m\u001b[1;3minventory\u001b[0m\n",
      "Thought:\u001b[32;1m\u001b[1;3m The only table in the database is 'inventory'. We need to use sql_db_schema to get the schema and sample rows for this table.\n",
      "Action: sql_db_schema\n",
      "Action Input: inventory\u001b[0m\n",
      "Observation: \u001b[33;1m\u001b[1;3m\n",
      "CREATE TABLE inventory (\n",
      "\tid INTEGER, \n",
      "\tproduct_name TEXT NOT NULL, \n",
      "\tstock_quantity INTEGER NOT NULL, \n",
      "\tPRIMARY KEY (id)\n",
      ")\n",
      "\n",
      "/*\n",
      "3 rows from inventory table:\n",
      "id\tproduct_name\tstock_quantity\n",
      "1\tProduct A\t150\n",
      "2\tProduct B\t200\n",
      "3\tProduct C\t300\n",
      "*/\u001b[0m\n",
      "Thought:\u001b[32;1m\u001b[1;3m Now that we have the correct table name and column names, we can use sql_db_query_checker to double check our query before executing it.\n",
      "Action: sql_db_query_checker\n",
      "Action Input: SELECT stock_quantity FROM inventory WHERE product_name = 'Product A'\u001b[0m\n",
      "Observation: \u001b[36;1m\u001b[1;3m\n",
      "SELECT stock_quantity FROM inventory WHERE product_name = 'Product A'\u001b[0m\n",
      "Thought:\u001b[32;1m\u001b[1;3m The query looks correct, let's use sql_db_query to execute it and get the result.\n",
      "Action: sql_db_query\n",
      "Action Input: SELECT stock_quantity FROM inventory WHERE product_name = 'Product A'\u001b[0m\n",
      "Observation: \u001b[36;1m\u001b[1;3m[(150,), (150,)]\u001b[0m\n",
      "Thought:\u001b[32;1m\u001b[1;3m The result shows that there are 150 units of Product A in stock. \n",
      "Final Answer: 150 units of Product A are in stock.\u001b[0m\n",
      "\n",
      "\u001b[1m> Finished chain.\u001b[0m\n",
      "Response: 150 units of Product A are in stock.\n"
     ]
    }
   ],
   "source": [
    "# Step 1: Connect to the Database\n",
    "db = SQLDatabase.from_uri(\"sqlite:///example_new.db\")\n",
    "\n",
    "# Step 3: Initialize the LLM\n",
    "llm = OpenAI(temperature=0.5)\n",
    "\n",
    "# Step 2: Create the SQL Database Toolkit\n",
    "\n",
    "toolkit = SQLDatabaseToolkit(db=db, llm=llm)\n",
    "\n",
    "tools = toolkit.get_tools()\n",
    "\n",
    "agent = initialize_agent(\n",
    "    tools=tools,\n",
    "    llm=llm,\n",
    "    agent=\"zero-shot-react-description\",\n",
    "    verbose=True\n",
    ")\n",
    "\n",
    "\n",
    "query1 = \"How many units of Product A are in stock?\"\n",
    "response1 = agent.run(query1)\n",
    "print(\"Response:\", response1)"
   ]
  },
  {
   "cell_type": "markdown",
   "metadata": {},
   "source": [
    "# ArxivQueryRun"
   ]
  },
  {
   "cell_type": "code",
   "execution_count": 9,
   "metadata": {},
   "outputs": [],
   "source": [
    "from langchain.agents import initialize_agent, Tool\n",
    "from langchain.llms import OpenAI\n",
    "from langchain_community.tools.arxiv.tool import ArxivQueryRun"
   ]
  },
  {
   "cell_type": "code",
   "execution_count": 10,
   "metadata": {},
   "outputs": [
    {
     "name": "stdout",
     "output_type": "stream",
     "text": [
      "\n",
      "\n",
      "\u001b[1m> Entering new AgentExecutor chain...\u001b[0m\n",
      "\u001b[32;1m\u001b[1;3m I should try using Arxiv Search to find relevant papers.\n",
      "Action: Arxiv Search\n",
      "Action Input: Object Detection 2024\u001b[0m\n",
      "Observation: \u001b[36;1m\u001b[1;3mPublished: 2024-07-08\n",
      "Title: Towards Reflected Object Detection: A Benchmark\n",
      "Authors: Zhongtian Wang, You Wu, Hui Zhou, Shuiwang Li\n",
      "Summary: Object detection has greatly improved over the past decade thanks to advances\n",
      "in deep learning and large-scale datasets. However, detecting objects reflected\n",
      "in surfaces remains an underexplored area. Reflective surfaces are ubiquitous\n",
      "in daily life, appearing in homes, offices, public spaces, and natural\n",
      "environments. Accurate detection and interpretation of reflected objects are\n",
      "essential for various applications. This paper addresses this gap by\n",
      "introducing a extensive benchmark specifically designed for Reflected Object\n",
      "Detection. Our Reflected Object Detection Dataset (RODD) features a diverse\n",
      "collection of images showcasing reflected objects in various contexts,\n",
      "providing standard annotations for both real and reflected objects. This\n",
      "distinguishes it from traditional object detection benchmarks. RODD encompasses\n",
      "10 categories and includes 21,059 images of real and reflected objects across\n",
      "different backgrounds, complete with standard bounding box annotations and the\n",
      "classification of objects as real or reflected. Additionally, we present\n",
      "baseline results by adapting five state-of-the-art object detection models to\n",
      "address this challenging task. Experimental results underscore the limitations\n",
      "of existing methods when applied to reflected object detection, highlighting\n",
      "the need for specialized approaches. By releasing RODD, we aim to support and\n",
      "advance future research on detecting reflected objects. Dataset and code are\n",
      "available at: https: //github.com/Tqybu-hans/RODD.\n",
      "\n",
      "Published: 2024-06-04\n",
      "Title: Mask-based Invisible Backdoor Attacks on Object Detection\n",
      "Authors: Jeongjin Shin\n",
      "Summary: Deep learning models have achieved unprecedented performance in the domain of\n",
      "object detection, resulting in breakthroughs in areas such as autonomous\n",
      "driving and security. However, deep learning models are vulnerable to backdoor\n",
      "attacks. These attacks prompt models to behave similarly to standard models\n",
      "without a trigger; however, they act maliciously upon detecting a predefined\n",
      "trigger. Despite extensive research on backdoor attacks in image\n",
      "classification, their application to object detection remains relatively\n",
      "underexplored. Given the widespread application of object detection in critical\n",
      "real-world scenarios, the sensitivity and potential impact of these\n",
      "vulnerabilities cannot be overstated. In this study, we propose an effective\n",
      "invisible backdoor attack on object detection utilizing a mask-based approach.\n",
      "Three distinct attack scenarios were explored for object detection: object\n",
      "disappearance, object misclassification, and object generation attack. Through\n",
      "extensive experiments, we comprehensively examined the effectiveness of these\n",
      "attacks and tested certain defense methods to determine effective\n",
      "countermeasures. Code will be available at\n",
      "https://github.com/jeongjin0/invisible-backdoor-object-detection\n",
      "\n",
      "Published: 2024-07-08\n",
      "Title: SeSame: Simple, Easy 3D Object Detection with Point-Wise Semantics\n",
      "Authors: Hayeon O, Chanuk Yang, Kunsoo Huh\n",
      "Summary: In autonomous driving, 3D object detection provides more precise information\n",
      "for downstream tasks, including path planning and motion estimation, compared\n",
      "to 2D object detection. In this paper, we propose SeSame: a method aimed at\n",
      "enhancing semantic information in existing LiDAR-only based 3D object\n",
      "detection. This addresses the limitation of existing 3D detectors, which\n",
      "primarily focus on object presence and classification, thus lacking in\n",
      "capturing relationships between elemental units that constitute the data, akin\n",
      "to semantic segmentation. Experiments demonstrate the effectiveness of our\n",
      "method with performance improvements on the KITTI object detection benchmark.\n",
      "Our code is available at https://github.com/HAMA-DL-dev/SeSame\u001b[0m\n",
      "Thought:\u001b[32;1m\u001b[1;3m I now know the final answer\n",
      "Final Answer: After searching on Arxiv, I found three relevant research papers on Object Detection in 2024. They are titled \"Towards Reflected Object Detection: A Benchmark\" by Zhongtian Wang et al., \"Mask-based Invisible Backdoor Attacks on Object Detection\" by Jeongjin Shin, and \"SeSame: Simple, Easy 3D Object Detection with Point-Wise Semantics\" by Hayeon O et al.\u001b[0m\n",
      "\n",
      "\u001b[1m> Finished chain.\u001b[0m\n",
      "Response from Agent:\n",
      "After searching on Arxiv, I found three relevant research papers on Object Detection in 2024. They are titled \"Towards Reflected Object Detection: A Benchmark\" by Zhongtian Wang et al., \"Mask-based Invisible Backdoor Attacks on Object Detection\" by Jeongjin Shin, and \"SeSame: Simple, Easy 3D Object Detection with Point-Wise Semantics\" by Hayeon O et al.\n"
     ]
    }
   ],
   "source": [
    "arxiv_tool = Tool(\n",
    "    name=\"Arxiv Search\",\n",
    "    func=ArxivQueryRun().run,\n",
    "    description=\"Use this tool to search academic papers on arXiv. Provide topics, authors, or keywords.\"\n",
    ")\n",
    "\n",
    "llm = OpenAI(temperature=0.5)\n",
    "\n",
    "tools = [arxiv_tool]\n",
    "\n",
    "agent = initialize_agent(\n",
    "    tools=tools,\n",
    "    llm=llm,\n",
    "    agent=\"zero-shot-react-description\",\n",
    "    verbose=True\n",
    ")\n",
    "\n",
    "\n",
    "query = \"Search for research papers on Object Detection in 2024.\"\n",
    "response = agent.run(query)\n",
    "print(\"Response from Agent:\")\n",
    "print(response)"
   ]
  },
  {
   "cell_type": "markdown",
   "metadata": {},
   "source": [
    "# File Agents"
   ]
  },
  {
   "cell_type": "code",
   "execution_count": 11,
   "metadata": {},
   "outputs": [],
   "source": [
    "from langchain_community.tools.file_management import ReadFileTool\n",
    "from langchain.agents import initialize_agent, Tool\n",
    "from langchain.llms import OpenAI"
   ]
  },
  {
   "cell_type": "code",
   "execution_count": 12,
   "metadata": {},
   "outputs": [
    {
     "name": "stdout",
     "output_type": "stream",
     "text": [
      "\n",
      "\n",
      "\u001b[1m> Entering new AgentExecutor chain...\u001b[0m\n",
      "\u001b[32;1m\u001b[1;3m You should always think about what to do before taking any action.\n",
      "Action: Read File\n",
      "Action Input: example.txt\u001b[0m\n",
      "Observation: \u001b[36;1m\u001b[1;3mdswithbappy focuses on providing content on Data Science, Artificial Intelligence, Machine Learning, Deep Learning, Computer Vision, Natural language processing, Python programming, etc. in English. \"Real creativity won't make things more complex. Instead, I will simplify them.\" I have been working in the Data Science field, spearheading in machine learning, deep learning, and computer vision. Typically this is my YouTube channel where I clarify different themes on machine learning, deep learning, and AI with numerous real-world issue scenarios. My primary point is to create everybody commonplace of ML and AI. Please subscribe and support the channel. As I come up with new innovations. These recordings are free and I guarantee to create more curiously substance as we go ahead.\n",
      "😀Please donate if you want to support the channel through Buy me a coffee: https://www.buymeacoffee.com/dswithbappy\n",
      "\n",
      "Please feel free to drop a mail for any Item unboxing and any other collaboration.\u001b[0m\n",
      "Thought:\u001b[32;1m\u001b[1;3m I now know the final answer.\n",
      "Final Answer: The content of the file named example.txt is about Data Science, Artificial Intelligence, Machine Learning, Deep Learning, Computer Vision, Natural language processing, Python programming, and more. The author's primary goal is to make ML and AI accessible to everyone through their YouTube channel and they also accept donations through Buy me a coffee.\u001b[0m\n",
      "\n",
      "\u001b[1m> Finished chain.\u001b[0m\n",
      "Response from Agent:\n",
      "The content of the file named example.txt is about Data Science, Artificial Intelligence, Machine Learning, Deep Learning, Computer Vision, Natural language processing, Python programming, and more. The author's primary goal is to make ML and AI accessible to everyone through their YouTube channel and they also accept donations through Buy me a coffee.\n"
     ]
    }
   ],
   "source": [
    "read_file_tool = Tool(\n",
    "    name=\"Read File\",\n",
    "    func=ReadFileTool().run,\n",
    "    description=\"Use this tool to read the content of a text file in the current working directory. Provide the file name as input.\"\n",
    ")\n",
    "\n",
    "llm = OpenAI(temperature=0.5)\n",
    "\n",
    "\n",
    "tools = [read_file_tool]\n",
    "\n",
    "agent = initialize_agent(\n",
    "    tools=tools,\n",
    "    llm=llm,\n",
    "    agent=\"zero-shot-react-description\",\n",
    "    verbose=True\n",
    ")\n",
    "\n",
    "file_name = \"example.txt\"\n",
    "\n",
    "response = agent.run(f\"Read the content of the file named {file_name}.\")\n",
    "print(\"Response from Agent:\")\n",
    "print(response)\n"
   ]
  }
 ],
 "metadata": {
  "kernelspec": {
   "display_name": "agentdemo",
   "language": "python",
   "name": "python3"
  },
  "language_info": {
   "codemirror_mode": {
    "name": "ipython",
    "version": 3
   },
   "file_extension": ".py",
   "mimetype": "text/x-python",
   "name": "python",
   "nbconvert_exporter": "python",
   "pygments_lexer": "ipython3",
   "version": "3.11.11"
  }
 },
 "nbformat": 4,
 "nbformat_minor": 2
}
